{
 "cells": [
  {
   "cell_type": "code",
   "execution_count": 1,
   "metadata": {},
   "outputs": [
    {
     "name": "stderr",
     "output_type": "stream",
     "text": [
      "/anaconda3/lib/python3.6/importlib/_bootstrap.py:219: RuntimeWarning: compiletime version 3.5 of module 'tensorflow.python.framework.fast_tensor_util' does not match runtime version 3.6\n",
      "  return f(*args, **kwds)\n",
      "/anaconda3/lib/python3.6/site-packages/h5py/__init__.py:36: FutureWarning: Conversion of the second argument of issubdtype from `float` to `np.floating` is deprecated. In future, it will be treated as `np.float64 == np.dtype(float).type`.\n",
      "  from ._conv import register_converters as _register_converters\n"
     ]
    }
   ],
   "source": [
    "import tensorflow as tf"
   ]
  },
  {
   "cell_type": "code",
   "execution_count": 2,
   "metadata": {},
   "outputs": [],
   "source": [
    "#load the data, read RGB values and convert to an array of size 150, 150, 3\n",
    "#convert labels to a vector of length 26\n"
   ]
  },
  {
   "cell_type": "code",
   "execution_count": 3,
   "metadata": {},
   "outputs": [],
   "source": [
    "X = tf.placeholder(tf.float32, shape=[None, 150, 150, 3]) \n",
    "y = tf.placeholder(tf.float32, shape=[None, 26]) #Number of letters in the alphabet"
   ]
  },
  {
   "cell_type": "code",
   "execution_count": 5,
   "metadata": {},
   "outputs": [],
   "source": [
    "'''\n",
    "CNN Structure\n",
    "1. Convolution with 32 filters (7x7 filter)\n",
    "1. Relu Activation\n",
    "2. Max pooling Layer - stride of 2 (2x2)\n",
    "3. Convolution with 16 filters (7x7 filter)\n",
    "4. Max pooling Layer - stride of 2 (2x2)\n",
    "5. Conv layer with 16 filters (7x7)\n",
    "6. max pool layer stride of 2 (3x3)\n",
    "--flatten\n",
    "5. Fully Connected Layer\n",
    "6. Relu activation \n",
    "7. Output Layer with 26 outputs \n",
    "'''\n",
    "\n",
    "Wconv1 = tf.Variable(tf.truncated_normal(shape=[7, 7, 3, 32]))\n",
    "bconv1 = tf.Variable(tf.constant(shape=[32], value=0.1))\n",
    "Wconv2 = tf.Variable(tf.truncated_normal(shape=[7, 7, 32, 16]))\n",
    "bconv2 = tf.Variable(tf.constant(shape=[16], value=0.1))\n",
    "Wconv3 = tf.Variable(tf.truncated_normal(shape=[7, 7, 16, 16]))\n",
    "bconv3 = tf.Variable(tf.constant(shape=[16], value=0.1))\n",
    "W1 = tf.Variable(tf.truncated_normal(shape=[2704, 1024]))\n",
    "b1 = tf.Variable(tf.constant(shape=[1024], value=0.1))\n",
    "W_out = tf.Variable(tf.truncated_normal(shape=[1024, 26]))\n",
    "b_out = tf.Variable(tf.constant(shape=[26], value=0.1))\n"
   ]
  },
  {
   "cell_type": "code",
   "execution_count": 8,
   "metadata": {},
   "outputs": [],
   "source": [
    "conv_layer_1 = tf.nn.conv2d(input=X, filter=Wconv1, strides=[1, 1, 1, 1], padding='SAME') + bconv1\n",
    "#dimensions --> 144 x 144 x 32\n",
    "relu1 = tf.nn.relu(conv_layer_1)\n",
    "pool_layer_1 = tf.nn.max_pool(value=relu1 , ksize=[1, 2, 2, 1], strides=[1, 2, 2, 1], padding='SAME')\n",
    "#dimensions --> 72 x 72 x 32\n",
    "conv_layer_2 = tf.nn.conv2d(input=pool_layer_1, filter=Wconv2, strides=[1, 1, 1, 1], padding='SAME') + bconv2\n",
    "#dimensions --> 66 x 66 x 16\n",
    "relu2 = tf.nn.relu(conv_layer_2)\n",
    "pool_layer_2 = tf.nn.max_pool(value=relu2, ksize=[1, 2, 2, 1], strides=[1, 2, 2, 1], padding='SAME')\n",
    "#dimensions --> 33 x 33 x 16\n",
    "conv_layer_3 = tf.nn.conv2d(input=pool_layer_2, filter=Wconv3, strides=[1, 1, 1, 1], padding='SAME') + bconv3\n",
    "#dimensions --> 27 x 27 x 16\n",
    "relu3 = tf.nn.relu(conv_layer_3)\n",
    "pool_layer_3 = tf.nn.max_pool(value=relu3 , ksize=[1, 3, 3, 1], strides=[1, 2, 2, 1], padding='SAME')\n",
    "#dimensions --> 13 x 13 x 16\n",
    "flatten = tf.reshape(tensor=pool_layer_3, shape=[-1, 2704])\n",
    "dense1 = tf.matmul(flatten, W1) + b1\n",
    "relu4 = tf.nn.relu(dense1)\n",
    "logits = tf.matmul(relu4, W_out) + b_out"
   ]
  },
  {
   "cell_type": "code",
   "execution_count": 15,
   "metadata": {},
   "outputs": [],
   "source": [
    "loss = tf.nn.softmax_cross_entropy_with_logits(logits=logits, labels=y)\n",
    "optimizer = tf.train.AdamOptimizer().minimize(loss)\n",
    "\n",
    "#compute accuracy \n",
    "y_pred = tf.argmax(tf.nn.softmax(logits), 1) \n",
    "equalities = tf.math.equal(tf.argmax(y, 1), y_pred)\n",
    "accuracy = tf.reduce_mean(tf.cast(equalities, tf.float32))"
   ]
  },
  {
   "cell_type": "code",
   "execution_count": null,
   "metadata": {},
   "outputs": [],
   "source": [
    "batch_size = \n",
    "epochs = \n",
    "sess = tf.Session()\n",
    "sess.run(tf.global_variables_initializer())\n",
    "n_batches = \n",
    "\n",
    "for epoch in range(epochs):\n",
    "    total_loss = 0\n",
    "    for batch in range(n_batches):\n",
    "        x_batch, y_batch = get_next_batch(batch_size)\n",
    "        feed_dict = {X: x_batch, y: y_batch}\n",
    "        _, ls, accuracy = sess.run([optimizer, loss, accuracy], feed_dict)\n",
    "        total_loss += ls\n",
    "    print(\"Epoch {0}: {1}\".format(epoch, ls))\n"
   ]
  },
  {
   "cell_type": "code",
   "execution_count": null,
   "metadata": {},
   "outputs": [],
   "source": []
  }
 ],
 "metadata": {
  "kernelspec": {
   "display_name": "Python 3",
   "language": "python",
   "name": "python3"
  },
  "language_info": {
   "codemirror_mode": {
    "name": "ipython",
    "version": 3
   },
   "file_extension": ".py",
   "mimetype": "text/x-python",
   "name": "python",
   "nbconvert_exporter": "python",
   "pygments_lexer": "ipython3",
   "version": "3.6.5"
  }
 },
 "nbformat": 4,
 "nbformat_minor": 2
}
